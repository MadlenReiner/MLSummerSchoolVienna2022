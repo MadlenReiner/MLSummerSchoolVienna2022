{
 "cells": [
  {
   "cell_type": "code",
   "execution_count": 6,
   "id": "12c80f54",
   "metadata": {},
   "outputs": [],
   "source": [
    "import ipywidgets as widgets\n",
    "from ipywidgets import interact\n",
    "import matplotlib.pyplot as plt\n",
    "import PIL, urllib\n",
    "import numpy as np\n",
    "import warnings\n",
    "import pickle\n",
    "warnings.filterwarnings(\"ignore\", category=UserWarning) "
   ]
  },
  {
   "cell_type": "code",
   "execution_count": 7,
   "id": "ac9d4d4b",
   "metadata": {},
   "outputs": [
    {
     "data": {
      "application/javascript": [
       "document.title = \"My SummerSchool App\";\n"
      ],
      "text/plain": [
       "<IPython.core.display.Javascript object>"
      ]
     },
     "metadata": {},
     "output_type": "display_data"
    }
   ],
   "source": [
    "%%javascript\n",
    "document.title = \"My SummerSchool App\";"
   ]
  },
  {
   "cell_type": "code",
   "execution_count": 8,
   "id": "5ccf6910",
   "metadata": {},
   "outputs": [],
   "source": [
    "default_url = 'https://upload.wikimedia.org/wikipedia/commons/2/24/Blue_Tshirt.jpg'"
   ]
  },
  {
   "cell_type": "code",
   "execution_count": 9,
   "id": "fa00a1df",
   "metadata": {},
   "outputs": [
    {
     "data": {
      "application/vnd.jupyter.widget-view+json": {
       "model_id": "d57aea96f86e49529bc48091b7cebfbf",
       "version_major": 2,
       "version_minor": 0
      },
      "text/plain": [
       "HTML(value='\\n<h1>\\nMy Summer School App\\n</h1>\\n<p style=\"max-width: 500px;\">\\nThis app takes a url to a .jpg…"
      ]
     },
     "metadata": {},
     "output_type": "display_data"
    }
   ],
   "source": [
    "display(widgets.HTML('''\n",
    "<h1>\n",
    "My Summer School App\n",
    "</h1>\n",
    "<p style=\"max-width: 500px;\">\n",
    "This app takes a url to a .jpg or .png image.\n",
    "Converts it into a grey scale 8x8 image and passes\n",
    "it through the trained model on dataset of handwritten digits.\n",
    "The predicted class is than simply displayed as a text.\n",
    "Type in an image url and press enter.\n",
    "</p>\n",
    "'''))"
   ]
  },
  {
   "cell_type": "code",
   "execution_count": 12,
   "id": "6d457de4",
   "metadata": {},
   "outputs": [
    {
     "data": {
      "application/vnd.jupyter.widget-view+json": {
       "model_id": "0814605287cb42448990c6c74dc8cf48",
       "version_major": 2,
       "version_minor": 0
      },
      "text/plain": [
       "interactive(children=(RadioButtons(description='Model:', options=('LogisticRegression', 'PCANaiveBayes'), valu…"
      ]
     },
     "metadata": {},
     "output_type": "display_data"
    }
   ],
   "source": [
    "@interact(mt=widgets.RadioButtons(\n",
    "    options=['LogisticRegression', 'PCANaiveBayes'],\n",
    "    value='LogisticRegression',\n",
    "    description='Model:',\n",
    "    disabled=False\n",
    "))\n",
    "def f(mt):\n",
    "    if mt == 'LogisticRegression':\n",
    "        model_path = 'pretrained_lr.model'\n",
    "    else:\n",
    "        model_path = 'pretrained_nb.model'\n",
    "\n",
    "    # Load the desired model\n",
    "    model = pickle.load(open(model_path, 'rb'))\n",
    "\n",
    "    @interact(\n",
    "        url=widgets.Text(\n",
    "            value=default_url,\n",
    "            placeholder='Type in an image URL.',\n",
    "            description='Image URL:',\n",
    "            disabled=False,\n",
    "            continuous_update=False))\n",
    "    def g(url):\n",
    "        try:\n",
    "            # Load and transform the image\n",
    "            img_arr = PIL.Image.open(\n",
    "                urllib.request.urlopen(url)).convert('L').resize((8,8))\n",
    "\n",
    "            # Plot the transformed image\n",
    "            plt.figure(figsize=(5,5))\n",
    "            plt.imshow(img_arr, cmap='gray', aspect='equal')\n",
    "            plt.title(f'Converted into grayscale {img_arr._size} image')\n",
    "            plt.axis('off')\n",
    "            plt.show()   \n",
    "\n",
    "            # Preprocess the image data\n",
    "            data = np.array(img_arr).ravel().reshape(1, -1)\n",
    "            \n",
    "            # Pass it through the model and display the result\n",
    "            display(model.predict(data))\n",
    "            \n",
    "        except Exception as e:\n",
    "            display(e)\n"
   ]
  },
  {
   "cell_type": "code",
   "execution_count": null,
   "id": "e8fcae11",
   "metadata": {},
   "outputs": [],
   "source": []
  }
 ],
 "metadata": {
  "kernelspec": {
   "display_name": "Python 3",
   "language": "python",
   "name": "python3"
  },
  "language_info": {
   "codemirror_mode": {
    "name": "ipython",
    "version": 3
   },
   "file_extension": ".py",
   "mimetype": "text/x-python",
   "name": "python",
   "nbconvert_exporter": "python",
   "pygments_lexer": "ipython3",
   "version": "3.8.10"
  }
 },
 "nbformat": 4,
 "nbformat_minor": 5
}
